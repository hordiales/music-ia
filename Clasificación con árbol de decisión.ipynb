{
 "cells": [
  {
   "cell_type": "code",
   "execution_count": 1,
   "metadata": {
    "collapsed": true
   },
   "outputs": [],
   "source": [
    "# -*- coding: UTF-8 -*-\n",
    "from sklearn import tree\n",
    "import numpy as np\n",
    "\n",
    "import os\n",
    "import json"
   ]
  },
  {
   "cell_type": "markdown",
   "metadata": {},
   "source": [
    "# DATASET: GTZAN genre collection\n",
    "\n",
    "Audios disponibles en:\n",
    "    The dataset consists of 1000 audio tracks each 30 seconds long.\n",
    "    It contains 10 genres, each represented by 100 tracks.\n",
    "    The tracks are all 22050Hz Mono 16-bit audio files in .wav format.\n",
    "\n",
    "    http://marsyas.info/downloads/datasets.html\n",
    "\n",
    "Ground truth, géneros: blues, classical, country, disco, hiphop, jazz, metal, pop, reggae, roc\n",
    "(100 archivos por género)\n",
    "\n",
    "Procesado con Essentia (http://essentia.upf.edu/documentation/)\n",
    "\n",
    "    Valores promedio (mean) de los siguientes descriptores\n",
    "    [ \n",
    "                'lowlevel.spectral_centroid',\n",
    "                'lowlevel.dissonance',\n",
    "                'lowlevel.mfcc',\n",
    "                'lowlevel.mfcc_bands',\n",
    "                'sfx.inharmonicity', \n",
    "                'rhythm.bpm\n",
    "    ]\n",
    "    En el .json se agrega el género y un id único     \n",
    "\n",
    "Descriptores MIR para cada audio (.au) almacenados en archivos .json (uno por cada audio)\n",
    "\n",
    "#### Nota: No se entrena con todos, se excluyen los que luego se van a utilizar para predecir.\n",
    "\n",
    "\n"
   ]
  },
  {
   "cell_type": "markdown",
   "metadata": {},
   "source": [
    "### Ejemplo json"
   ]
  },
  {
   "cell_type": "code",
   "execution_count": 2,
   "metadata": {},
   "outputs": [
    {
     "name": "stdout",
     "output_type": "stream",
     "text": [
      "{\"lowlevel.dissonance.mean\": \"0.435817778111\", \"lowlevel.mfcc_bands.mean\": \"0.00309278\", \"sfx.inharmonicity.mean\": \"0.072731718421\", \"rhythm.bpm.mean\": \"67.7719039917\", \"lowlevel.spectral_centroid.mean\": \"2191.51098633\", \"lowlevel.mfcc.mean\": \"-695.122\", \"genre\": \"blues\", \"id\": \"blues.00001\"}"
     ]
    }
   ],
   "source": [
    "cat dataset/descriptores/blues.00001.json"
   ]
  },
  {
   "cell_type": "code",
   "execution_count": 3,
   "metadata": {
    "collapsed": true
   },
   "outputs": [],
   "source": [
    "files_dir = 'dataset/descriptores'"
   ]
  },
  {
   "cell_type": "code",
   "execution_count": 4,
   "metadata": {},
   "outputs": [
    {
     "name": "stdout",
     "output_type": "stream",
     "text": [
      "blues.00000.json      disco.00084.json      metal.00092.json\r\n",
      "blues.00001.json      disco.00085.json      metal.00093.json\r\n",
      "blues.00002.json      disco.00086.json      metal.00094.json\r\n",
      "blues.00003.json      disco.00087.json      metal.00095.json\r\n",
      "blues.00004.json      disco.00088.json      metal.00096.json\r\n",
      "blues.00006.json      disco.00089.json      metal.00097.json\r\n",
      "blues.00007.json      disco.00090.json      metal.00098.json\r\n",
      "blues.00008.json      disco.00091.json      metal.00099.json\r\n",
      "blues.00009.json      disco.00092.json      pop.00000.json\r\n",
      "blues.00010.json      disco.00093.json      pop.00001.json\r\n",
      "blues.00011.json      disco.00094.json      pop.00002.json\r\n",
      "blues.00012.json      disco.00095.json      pop.00003.json\r\n",
      "blues.00013.json      disco.00096.json      pop.00004.json\r\n",
      "blues.00014.json      disco.00097.json      pop.00005.json\r\n",
      "blues.00015.json      disco.00098.json      pop.00006.json\r\n",
      "blues.00016.json      disco.00099.json      pop.00007.json\r\n",
      "blues.00017.json      hiphop.00000.json     pop.00008.json\r\n",
      "blues.00018.json      hiphop.00001.json     pop.00009.json\r\n",
      "blues.00019.json      hiphop.00002.json     pop.00011.json\r\n",
      "blues.00020.json      hiphop.00003.json     pop.00012.json\r\n",
      "blues.00022.json      hiphop.00004.json     pop.00013.json\r\n",
      "blues.00023.json      hiphop.00005.json     pop.00014.json\r\n",
      "blues.00024.json      hiphop.00006.json     pop.00015.json\r\n",
      "blues.00025.json      hiphop.00007.json     pop.00016.json\r\n",
      "blues.00026.json      hiphop.00008.json     pop.00017.json\r\n",
      "blues.00027.json      hiphop.00009.json     pop.00018.json\r\n",
      "blues.00028.json      hiphop.00010.json     pop.00019.json\r\n",
      "blues.00029.json      hiphop.00011.json     pop.00020.json\r\n",
      "blues.00030.json      hiphop.00012.json     pop.00021.json\r\n",
      "blues.00031.json      hiphop.00013.json     pop.00022.json\r\n",
      "blues.00032.json      hiphop.00014.json     pop.00023.json\r\n",
      "blues.00033.json      hiphop.00015.json     pop.00024.json\r\n",
      "blues.00034.json      hiphop.00016.json     pop.00025.json\r\n",
      "blues.00035.json      hiphop.00017.json     pop.00026.json\r\n",
      "blues.00036.json      hiphop.00018.json     pop.00027.json\r\n",
      "blues.00037.json      hiphop.00019.json     pop.00028.json\r\n",
      "blues.00038.json      hiphop.00020.json     pop.00029.json\r\n",
      "blues.00039.json      hiphop.00021.json     pop.00030.json\r\n",
      "blues.00040.json      hiphop.00022.json     pop.00031.json\r\n",
      "blues.00041.json      hiphop.00023.json     pop.00032.json\r\n",
      "blues.00042.json      hiphop.00024.json     pop.00033.json\r\n",
      "blues.00043.json      hiphop.00025.json     pop.00034.json\r\n",
      "blues.00044.json      hiphop.00026.json     pop.00035.json\r\n",
      "blues.00045.json      hiphop.00027.json     pop.00036.json\r\n",
      "blues.00046.json      hiphop.00028.json     pop.00037.json\r\n",
      "blues.00047.json      hiphop.00029.json     pop.00038.json\r\n",
      "blues.00048.json      hiphop.00030.json     pop.00039.json\r\n",
      "blues.00049.json      hiphop.00031.json     pop.00040.json\r\n",
      "blues.00050.json      hiphop.00032.json     pop.00041.json\r\n",
      "blues.00051.json      hiphop.00033.json     pop.00042.json\r\n",
      "blues.00052.json      hiphop.00034.json     pop.00043.json\r\n",
      "blues.00053.json      hiphop.00035.json     pop.00044.json\r\n",
      "blues.00054.json      hiphop.00036.json     pop.00045.json\r\n",
      "blues.00055.json      hiphop.00037.json     pop.00046.json\r\n",
      "blues.00056.json      hiphop.00038.json     pop.00047.json\r\n",
      "blues.00057.json      hiphop.00039.json     pop.00048.json\r\n",
      "blues.00058.json      hiphop.00040.json     pop.00049.json\r\n",
      "blues.00059.json      hiphop.00041.json     pop.00050.json\r\n",
      "blues.00060.json      hiphop.00042.json     pop.00051.json\r\n",
      "blues.00061.json      hiphop.00043.json     pop.00052.json\r\n",
      "blues.00062.json      hiphop.00044.json     pop.00053.json\r\n",
      "blues.00063.json      hiphop.00045.json     pop.00054.json\r\n",
      "blues.00064.json      hiphop.00046.json     pop.00055.json\r\n",
      "blues.00065.json      hiphop.00047.json     pop.00056.json\r\n",
      "blues.00066.json      hiphop.00048.json     pop.00057.json\r\n",
      "blues.00067.json      hiphop.00049.json     pop.00058.json\r\n",
      "blues.00068.json      hiphop.00050.json     pop.00059.json\r\n",
      "blues.00069.json      hiphop.00051.json     pop.00060.json\r\n",
      "blues.00070.json      hiphop.00052.json     pop.00061.json\r\n",
      "blues.00071.json      hiphop.00053.json     pop.00062.json\r\n",
      "blues.00072.json      hiphop.00054.json     pop.00063.json\r\n",
      "blues.00073.json      hiphop.00055.json     pop.00064.json\r\n",
      "blues.00074.json      hiphop.00056.json     pop.00065.json\r\n",
      "blues.00075.json      hiphop.00057.json     pop.00066.json\r\n",
      "blues.00076.json      hiphop.00058.json     pop.00067.json\r\n",
      "blues.00077.json      hiphop.00059.json     pop.00068.json\r\n",
      "blues.00078.json      hiphop.00060.json     pop.00069.json\r\n",
      "blues.00079.json      hiphop.00061.json     pop.00070.json\r\n",
      "blues.00080.json      hiphop.00062.json     pop.00071.json\r\n",
      "blues.00081.json      hiphop.00063.json     pop.00072.json\r\n",
      "blues.00082.json      hiphop.00064.json     pop.00073.json\r\n",
      "blues.00083.json      hiphop.00065.json     pop.00074.json\r\n",
      "blues.00084.json      hiphop.00066.json     pop.00075.json\r\n",
      "blues.00085.json      hiphop.00067.json     pop.00076.json\r\n",
      "blues.00086.json      hiphop.00068.json     pop.00077.json\r\n",
      "blues.00087.json      hiphop.00069.json     pop.00078.json\r\n",
      "blues.00088.json      hiphop.00070.json     pop.00079.json\r\n",
      "blues.00089.json      hiphop.00071.json     pop.00080.json\r\n",
      "blues.00090.json      hiphop.00072.json     pop.00081.json\r\n",
      "blues.00091.json      hiphop.00073.json     pop.00082.json\r\n",
      "blues.00092.json      hiphop.00074.json     pop.00083.json\r\n",
      "blues.00093.json      hiphop.00075.json     pop.00084.json\r\n",
      "blues.00094.json      hiphop.00076.json     pop.00085.json\r\n",
      "blues.00095.json      hiphop.00077.json     pop.00086.json\r\n",
      "blues.00096.json      hiphop.00078.json     pop.00087.json\r\n",
      "blues.00097.json      hiphop.00079.json     pop.00088.json\r\n",
      "blues.00098.json      hiphop.00080.json     pop.00089.json\r\n",
      "blues.00099.json      hiphop.00081.json     pop.00090.json\r\n",
      "classical.00000.json  hiphop.00082.json     pop.00091.json\r\n",
      "classical.00001.json  hiphop.00083.json     pop.00092.json\r\n",
      "classical.00002.json  hiphop.00084.json     pop.00093.json\r\n",
      "classical.00003.json  hiphop.00085.json     pop.00094.json\r\n",
      "classical.00004.json  hiphop.00086.json     pop.00095.json\r\n",
      "classical.00005.json  hiphop.00087.json     pop.00096.json\r\n",
      "classical.00006.json  hiphop.00088.json     pop.00097.json\r\n",
      "classical.00007.json  hiphop.00089.json     pop.00098.json\r\n",
      "classical.00008.json  hiphop.00090.json     pop.00099.json\r\n",
      "classical.00009.json  hiphop.00091.json     reggae.00000.json\r\n",
      "classical.00010.json  hiphop.00092.json     reggae.00001.json\r\n",
      "classical.00011.json  hiphop.00093.json     reggae.00002.json\r\n",
      "classical.00012.json  hiphop.00094.json     reggae.00003.json\r\n",
      "classical.00013.json  hiphop.00095.json     reggae.00004.json\r\n",
      "classical.00014.json  hiphop.00096.json     reggae.00005.json\r\n",
      "classical.00015.json  hiphop.00097.json     reggae.00006.json\r\n",
      "classical.00016.json  hiphop.00098.json     reggae.00007.json\r\n",
      "classical.00017.json  hiphop.00099.json     reggae.00008.json\r\n",
      "classical.00018.json  jazz.00000.json       reggae.00009.json\r\n",
      "classical.00019.json  jazz.00001.json       reggae.00010.json\r\n",
      "classical.00020.json  jazz.00002.json       reggae.00011.json\r\n",
      "classical.00021.json  jazz.00003.json       reggae.00012.json\r\n",
      "classical.00022.json  jazz.00004.json       reggae.00013.json\r\n",
      "classical.00023.json  jazz.00005.json       reggae.00014.json\r\n",
      "classical.00024.json  jazz.00006.json       reggae.00015.json\r\n",
      "classical.00025.json  jazz.00007.json       reggae.00016.json\r\n",
      "country.00000.json    jazz.00008.json       reggae.00017.json\r\n",
      "country.00001.json    jazz.00009.json       reggae.00018.json\r\n",
      "country.00002.json    jazz.00010.json       reggae.00019.json\r\n",
      "country.00003.json    jazz.00011.json       reggae.00020.json\r\n",
      "country.00004.json    jazz.00012.json       reggae.00021.json\r\n",
      "country.00005.json    jazz.00013.json       reggae.00022.json\r\n",
      "country.00006.json    jazz.00014.json       reggae.00023.json\r\n",
      "country.00007.json    jazz.00015.json       reggae.00024.json\r\n",
      "country.00008.json    jazz.00016.json       reggae.00025.json\r\n",
      "country.00009.json    jazz.00017.json       reggae.00026.json\r\n",
      "country.00010.json    jazz.00018.json       reggae.00027.json\r\n",
      "country.00011.json    jazz.00019.json       reggae.00028.json\r\n",
      "country.00012.json    jazz.00020.json       reggae.00029.json\r\n",
      "country.00013.json    jazz.00021.json       reggae.00030.json\r\n",
      "country.00014.json    jazz.00022.json       reggae.00031.json\r\n",
      "country.00015.json    jazz.00023.json       reggae.00032.json\r\n",
      "country.00016.json    jazz.00024.json       reggae.00033.json\r\n",
      "country.00017.json    jazz.00025.json       reggae.00034.json\r\n",
      "country.00018.json    jazz.00026.json       reggae.00035.json\r\n",
      "country.00019.json    jazz.00027.json       reggae.00036.json\r\n",
      "country.00020.json    jazz.00028.json       reggae.00037.json\r\n",
      "country.00021.json    jazz.00029.json       reggae.00038.json\r\n",
      "country.00022.json    jazz.00030.json       reggae.00039.json\r\n",
      "country.00023.json    jazz.00031.json       reggae.00040.json\r\n",
      "country.00024.json    jazz.00032.json       reggae.00041.json\r\n",
      "country.00025.json    jazz.00033.json       reggae.00042.json\r\n",
      "country.00026.json    jazz.00034.json       reggae.00043.json\r\n",
      "country.00027.json    jazz.00035.json       reggae.00044.json\r\n",
      "country.00028.json    jazz.00036.json       reggae.00045.json\r\n",
      "country.00029.json    jazz.00037.json       reggae.00046.json\r\n",
      "country.00030.json    jazz.00038.json       reggae.00047.json\r\n",
      "country.00032.json    jazz.00039.json       reggae.00048.json\r\n",
      "country.00033.json    jazz.00040.json       reggae.00049.json\r\n",
      "country.00034.json    jazz.00041.json       reggae.00050.json\r\n",
      "country.00035.json    jazz.00042.json       reggae.00051.json\r\n",
      "country.00036.json    jazz.00043.json       reggae.00053.json\r\n",
      "country.00037.json    jazz.00044.json       reggae.00054.json\r\n",
      "country.00038.json    jazz.00045.json       reggae.00055.json\r\n",
      "country.00039.json    jazz.00046.json       reggae.00056.json\r\n",
      "country.00040.json    jazz.00047.json       reggae.00057.json\r\n",
      "country.00041.json    jazz.00048.json       reggae.00058.json\r\n",
      "country.00042.json    jazz.00049.json       reggae.00059.json\r\n",
      "country.00043.json    jazz.00050.json       reggae.00060.json\r\n",
      "country.00044.json    jazz.00051.json       reggae.00061.json\r\n",
      "country.00045.json    jazz.00052.json       reggae.00062.json\r\n",
      "country.00046.json    jazz.00053.json       reggae.00063.json\r\n",
      "country.00047.json    jazz.00054.json       reggae.00064.json\r\n",
      "country.00048.json    jazz.00055.json       reggae.00065.json\r\n",
      "country.00049.json    jazz.00056.json       reggae.00066.json\r\n",
      "country.00050.json    jazz.00057.json       reggae.00067.json\r\n",
      "country.00051.json    jazz.00058.json       reggae.00068.json\r\n",
      "country.00052.json    jazz.00059.json       reggae.00069.json\r\n",
      "country.00053.json    jazz.00060.json       reggae.00070.json\r\n",
      "country.00054.json    jazz.00061.json       reggae.00071.json\r\n",
      "country.00055.json    jazz.00062.json       reggae.00072.json\r\n",
      "country.00056.json    jazz.00063.json       reggae.00073.json\r\n",
      "country.00057.json    jazz.00064.json       reggae.00074.json\r\n",
      "country.00058.json    jazz.00065.json       reggae.00075.json\r\n",
      "country.00059.json    jazz.00066.json       reggae.00076.json\r\n",
      "country.00060.json    jazz.00067.json       reggae.00077.json\r\n",
      "country.00061.json    jazz.00068.json       reggae.00078.json\r\n",
      "country.00062.json    jazz.00069.json       reggae.00079.json\r\n",
      "country.00063.json    jazz.00070.json       reggae.00080.json\r\n",
      "country.00064.json    jazz.00071.json       reggae.00081.json\r\n",
      "country.00065.json    jazz.00072.json       reggae.00082.json\r\n",
      "country.00066.json    jazz.00073.json       reggae.00083.json\r\n",
      "country.00067.json    jazz.00074.json       reggae.00084.json\r\n",
      "country.00068.json    jazz.00075.json       reggae.00085.json\r\n",
      "country.00069.json    jazz.00076.json       reggae.00086.json\r\n",
      "country.00070.json    jazz.00077.json       reggae.00087.json\r\n",
      "country.00071.json    jazz.00078.json       reggae.00088.json\r\n",
      "country.00072.json    jazz.00079.json       reggae.00089.json\r\n",
      "country.00073.json    jazz.00080.json       reggae.00090.json\r\n",
      "country.00074.json    jazz.00081.json       reggae.00091.json\r\n",
      "country.00075.json    jazz.00082.json       reggae.00092.json\r\n",
      "country.00076.json    jazz.00083.json       reggae.00093.json\r\n",
      "country.00077.json    jazz.00084.json       reggae.00094.json\r\n",
      "country.00078.json    jazz.00085.json       reggae.00095.json\r\n",
      "country.00079.json    jazz.00086.json       reggae.00096.json\r\n",
      "country.00080.json    jazz.00087.json       reggae.00097.json\r\n",
      "country.00081.json    jazz.00088.json       reggae.00098.json\r\n",
      "country.00082.json    jazz.00089.json       reggae.00099.json\r\n",
      "country.00083.json    jazz.00090.json       rock.00000.json\r\n",
      "country.00084.json    jazz.00091.json       rock.00001.json\r\n",
      "country.00085.json    jazz.00092.json       rock.00002.json\r\n",
      "country.00086.json    jazz.00093.json       rock.00003.json\r\n",
      "country.00087.json    jazz.00094.json       rock.00004.json\r\n",
      "country.00088.json    jazz.00095.json       rock.00005.json\r\n",
      "country.00089.json    jazz.00096.json       rock.00006.json\r\n",
      "country.00090.json    jazz.00097.json       rock.00007.json\r\n",
      "country.00091.json    jazz.00098.json       rock.00008.json\r\n",
      "country.00092.json    jazz.00099.json       rock.00009.json\r\n",
      "country.00093.json    metal.00000.json      rock.00010.json\r\n",
      "country.00094.json    metal.00001.json      rock.00011.json\r\n",
      "country.00095.json    metal.00002.json      rock.00012.json\r\n",
      "country.00096.json    metal.00003.json      rock.00013.json\r\n",
      "country.00097.json    metal.00004.json      rock.00014.json\r\n",
      "country.00098.json    metal.00005.json      rock.00015.json\r\n",
      "country.00099.json    metal.00006.json      rock.00016.json\r\n",
      "disco.00000.json      metal.00007.json      rock.00017.json\r\n",
      "disco.00001.json      metal.00008.json      rock.00018.json\r\n",
      "disco.00002.json      metal.00009.json      rock.00019.json\r\n",
      "disco.00003.json      metal.00010.json      rock.00020.json\r\n",
      "disco.00004.json      metal.00011.json      rock.00021.json\r\n",
      "disco.00005.json      metal.00012.json      rock.00022.json\r\n",
      "disco.00006.json      metal.00013.json      rock.00023.json\r\n",
      "disco.00007.json      metal.00014.json      rock.00024.json\r\n",
      "disco.00008.json      metal.00015.json      rock.00025.json\r\n",
      "disco.00009.json      metal.00016.json      rock.00026.json\r\n",
      "disco.00010.json      metal.00017.json      rock.00027.json\r\n",
      "disco.00011.json      metal.00018.json      rock.00028.json\r\n",
      "disco.00012.json      metal.00019.json      rock.00029.json\r\n",
      "disco.00013.json      metal.00020.json      rock.00030.json\r\n",
      "disco.00014.json      metal.00021.json      rock.00031.json\r\n",
      "disco.00015.json      metal.00022.json      rock.00032.json\r\n",
      "disco.00016.json      metal.00024.json      rock.00033.json\r\n",
      "disco.00017.json      metal.00025.json      rock.00034.json\r\n",
      "disco.00018.json      metal.00026.json      rock.00035.json\r\n",
      "disco.00019.json      metal.00027.json      rock.00036.json\r\n",
      "disco.00020.json      metal.00028.json      rock.00037.json\r\n",
      "disco.00021.json      metal.00029.json      rock.00038.json\r\n",
      "disco.00022.json      metal.00030.json      rock.00039.json\r\n",
      "disco.00023.json      metal.00031.json      rock.00040.json\r\n",
      "disco.00024.json      metal.00032.json      rock.00041.json\r\n",
      "disco.00025.json      metal.00033.json      rock.00042.json\r\n",
      "disco.00026.json      metal.00034.json      rock.00043.json\r\n",
      "disco.00027.json      metal.00035.json      rock.00044.json\r\n",
      "disco.00028.json      metal.00036.json      rock.00045.json\r\n",
      "disco.00029.json      metal.00037.json      rock.00046.json\r\n",
      "disco.00030.json      metal.00038.json      rock.00047.json\r\n",
      "disco.00031.json      metal.00039.json      rock.00048.json\r\n",
      "disco.00032.json      metal.00040.json      rock.00049.json\r\n",
      "disco.00033.json      metal.00041.json      rock.00050.json\r\n",
      "disco.00034.json      metal.00042.json      rock.00051.json\r\n",
      "disco.00035.json      metal.00043.json      rock.00052.json\r\n",
      "disco.00036.json      metal.00044.json      rock.00053.json\r\n",
      "disco.00037.json      metal.00045.json      rock.00054.json\r\n",
      "disco.00038.json      metal.00046.json      rock.00055.json\r\n",
      "disco.00039.json      metal.00047.json      rock.00056.json\r\n",
      "disco.00040.json      metal.00048.json      rock.00057.json\r\n",
      "disco.00041.json      metal.00049.json      rock.00058.json\r\n",
      "disco.00042.json      metal.00050.json      rock.00059.json\r\n",
      "disco.00043.json      metal.00051.json      rock.00060.json\r\n",
      "disco.00044.json      metal.00052.json      rock.00061.json\r\n",
      "disco.00045.json      metal.00053.json      rock.00062.json\r\n",
      "disco.00046.json      metal.00054.json      rock.00063.json\r\n",
      "disco.00047.json      metal.00055.json      rock.00064.json\r\n",
      "disco.00048.json      metal.00056.json      rock.00065.json\r\n",
      "disco.00049.json      metal.00057.json      rock.00066.json\r\n",
      "disco.00050.json      metal.00058.json      rock.00067.json\r\n",
      "disco.00051.json      metal.00059.json      rock.00068.json\r\n",
      "disco.00052.json      metal.00060.json      rock.00069.json\r\n",
      "disco.00053.json      metal.00061.json      rock.00070.json\r\n",
      "disco.00054.json      metal.00062.json      rock.00071.json\r\n",
      "disco.00055.json      metal.00063.json      rock.00072.json\r\n",
      "disco.00056.json      metal.00064.json      rock.00073.json\r\n",
      "disco.00057.json      metal.00065.json      rock.00074.json\r\n",
      "disco.00058.json      metal.00066.json      rock.00075.json\r\n",
      "disco.00059.json      metal.00067.json      rock.00076.json\r\n",
      "disco.00060.json      metal.00068.json      rock.00077.json\r\n",
      "disco.00061.json      metal.00069.json      rock.00078.json\r\n",
      "disco.00062.json      metal.00070.json      rock.00079.json\r\n",
      "disco.00063.json      metal.00071.json      rock.00080.json\r\n",
      "disco.00064.json      metal.00072.json      rock.00081.json\r\n",
      "disco.00065.json      metal.00073.json      rock.00082.json\r\n",
      "disco.00066.json      metal.00074.json      rock.00083.json\r\n",
      "disco.00067.json      metal.00075.json      rock.00084.json\r\n",
      "disco.00068.json      metal.00076.json      rock.00085.json\r\n",
      "disco.00069.json      metal.00077.json      rock.00086.json\r\n",
      "disco.00070.json      metal.00078.json      rock.00087.json\r\n",
      "disco.00071.json      metal.00079.json      rock.00088.json\r\n",
      "disco.00072.json      metal.00080.json      rock.00089.json\r\n",
      "disco.00073.json      metal.00081.json      rock.00090.json\r\n",
      "disco.00074.json      metal.00082.json      rock.00091.json\r\n",
      "disco.00075.json      metal.00083.json      rock.00092.json\r\n",
      "disco.00076.json      metal.00084.json      rock.00093.json\r\n",
      "disco.00077.json      metal.00085.json      rock.00094.json\r\n",
      "disco.00078.json      metal.00086.json      rock.00095.json\r\n",
      "disco.00079.json      metal.00087.json      rock.00096.json\r\n",
      "disco.00080.json      metal.00088.json      rock.00097.json\r\n",
      "disco.00081.json      metal.00089.json      rock.00098.json\r\n",
      "disco.00082.json      metal.00090.json      rock.00099.json\r\n",
      "disco.00083.json      metal.00091.json\r\n"
     ]
    }
   ],
   "source": [
    "ls dataset/descriptores"
   ]
  },
  {
   "cell_type": "code",
   "execution_count": 5,
   "metadata": {
    "collapsed": true
   },
   "outputs": [],
   "source": [
    "#TODO: autonumerate\n",
    "codify_genre = { \n",
    "    'blues': 0,\n",
    "    'classical': 1,\n",
    "    'country': 2,\n",
    "    'disco': 3,\n",
    "    'hiphop': 4,\n",
    "    'jazz': 5,\n",
    "    'metal': 6,\n",
    "    'pop': 7,\n",
    "    'reggae': 8,\n",
    "    'rock': 9\n",
    "}\n",
    "undecode_genre = {v: k for k, v in codify_genre.iteritems()}\n",
    "\n",
    "def load_song_from_json(json_filename):\n",
    "    data = json.load( open(json_filename,'r') )\n",
    "    song_id = data.pop('id')\n",
    "    song_genre = codify_genre[ str(data.pop('genre')) ]\n",
    "    x = np.array( [float(v) for (k,v) in data.iteritems()], dtype=float)\n",
    "    return song_id, undecode_genre[song_genre], x\n",
    "\n",
    "len_vector = 6 #amount of data value of descriptors\n",
    "arr = np.empty((0,len_vector), float)\n",
    "target_arr = np.empty((0,1), float)\n",
    "\n",
    "for subdir, dirs, files in os.walk(files_dir):\n",
    "    for f in files:\n",
    "        if os.path.splitext(f)[1]==\".json\":\n",
    "            data = json.load( open(files_dir + \"/\" + f,'r') )\n",
    "            song_id = data.pop('id')\n",
    "            song_genre = codify_genre[ str(data.pop('genre')) ]\n",
    "            target_arr = np.append(target_arr, song_genre)\n",
    "            x = np.array( [float(v) for (k,v) in data.iteritems()], dtype=float)\n",
    "            arr = np.vstack((arr, x))"
   ]
  },
  {
   "cell_type": "markdown",
   "metadata": {},
   "source": [
    "## Entrenamiento"
   ]
  },
  {
   "cell_type": "code",
   "execution_count": 6,
   "metadata": {
    "collapsed": true
   },
   "outputs": [],
   "source": [
    "ct = tree.DecisionTreeClassifier()\n",
    "ct_entrenado = ct.fit( arr, target_arr ) #cargo los datos (entreno)\n",
    "\n",
    "def genre_predict(ct_entrenado, x_arr):\n",
    "    return undecode_genre[ ct_entrenado.predict( x_arr.reshape(1,-1) )[0] ]"
   ]
  },
  {
   "cell_type": "markdown",
   "metadata": {},
   "source": [
    "### Pruebas de predicción"
   ]
  },
  {
   "cell_type": "code",
   "execution_count": 7,
   "metadata": {},
   "outputs": [
    {
     "data": {
      "text/plain": [
       "('pop', array([  4.43471521e-01,   9.70065000e-03,   7.65194297e-02,\n",
       "          1.06967133e+02,   2.11458838e+03,  -5.79939000e+02]))"
      ]
     },
     "execution_count": 7,
     "metadata": {},
     "output_type": "execute_result"
    }
   ],
   "source": [
    "test_id, test_genre, test_arr = load_song_from_json( 'dataset/pruebas/pop.00010.json' )\n",
    "test_genre, test_arr"
   ]
  },
  {
   "cell_type": "code",
   "execution_count": 8,
   "metadata": {},
   "outputs": [
    {
     "name": "stdout",
     "output_type": "stream",
     "text": [
      "('G\\xc3\\xa9nero predecido: ', 'country')\n"
     ]
    }
   ],
   "source": [
    "print( \"Género predecido: \", genre_predict(ct_entrenado, test_arr.reshape(1,-1)) )"
   ]
  },
  {
   "cell_type": "code",
   "execution_count": 9,
   "metadata": {},
   "outputs": [
    {
     "data": {
      "text/plain": [
       "('country', array([  4.47215110e-01,   1.63228000e-03,   6.21108934e-02,\n",
       "          1.10562599e+02,   2.25280249e+03,  -5.99665000e+02]))"
      ]
     },
     "execution_count": 9,
     "metadata": {},
     "output_type": "execute_result"
    }
   ],
   "source": [
    "test_id, test_genre, test_arr = load_song_from_json( 'dataset/pruebas/country.00031.json' )\n",
    "test_genre, test_arr"
   ]
  },
  {
   "cell_type": "code",
   "execution_count": 10,
   "metadata": {},
   "outputs": [
    {
     "name": "stdout",
     "output_type": "stream",
     "text": [
      "('G\\xc3\\xa9nero predecido: ', 'disco')\n"
     ]
    }
   ],
   "source": [
    "print( \"Género predecido: \", genre_predict(ct_entrenado, test_arr.reshape(1,-1)) )"
   ]
  },
  {
   "cell_type": "code",
   "execution_count": 11,
   "metadata": {},
   "outputs": [
    {
     "data": {
      "text/plain": [
       "('blues', array([  4.13481325e-01,   5.61112000e-05,   5.49932234e-02,\n",
       "          6.83032532e+01,   2.24271191e+03,  -6.62832000e+02]))"
      ]
     },
     "execution_count": 11,
     "metadata": {},
     "output_type": "execute_result"
    }
   ],
   "source": [
    "# al agregar al entrenamiento con el género country, falla (sin ese, clasifica OK)\n",
    "# al agregar hiphop vuelve a clasificar bien\n",
    "test_id, test_genre, test_arr = load_song_from_json( 'dataset/pruebas/blues.00005.json' )\n",
    "test_genre, test_arr"
   ]
  },
  {
   "cell_type": "code",
   "execution_count": 12,
   "metadata": {},
   "outputs": [
    {
     "name": "stdout",
     "output_type": "stream",
     "text": [
      "('G\\xc3\\xa9nero predecido: ', 'country')\n"
     ]
    }
   ],
   "source": [
    "print( \"Género predecido: \", genre_predict(ct_entrenado, test_arr.reshape(1,-1)) )"
   ]
  },
  {
   "cell_type": "code",
   "execution_count": 13,
   "metadata": {},
   "outputs": [
    {
     "data": {
      "text/plain": [
       "('blues', array([  4.01932120e-01,   1.25262000e-03,   5.18891178e-02,\n",
       "          1.00242500e+02,   2.34314429e+03,  -7.47678000e+02]))"
      ]
     },
     "execution_count": 13,
     "metadata": {},
     "output_type": "execute_result"
    }
   ],
   "source": [
    "# esta canción blues clasifica OK\n",
    "test_id, test_genre, test_arr = load_song_from_json( 'dataset/pruebas/blues.00021.json' )\n",
    "test_genre, test_arr"
   ]
  },
  {
   "cell_type": "code",
   "execution_count": 14,
   "metadata": {},
   "outputs": [
    {
     "name": "stdout",
     "output_type": "stream",
     "text": [
      "('G\\xc3\\xa9nero predecido: ', 'blues')\n"
     ]
    }
   ],
   "source": [
    "print( \"Género predecido: \", genre_predict(ct_entrenado, test_arr.reshape(1,-1)) )"
   ]
  },
  {
   "cell_type": "code",
   "execution_count": 15,
   "metadata": {},
   "outputs": [
    {
     "data": {
      "text/plain": [
       "('reggae', array([  4.72415090e-01,   2.26356000e-02,   2.88092017e-01,\n",
       "          9.96622391e+01,   2.15012451e+03,  -5.70954000e+02]))"
      ]
     },
     "execution_count": 15,
     "metadata": {},
     "output_type": "execute_result"
    }
   ],
   "source": [
    "test_id, test_genre, test_arr = load_song_from_json( 'dataset/pruebas/reggae.00052.json' )\n",
    "test_genre, test_arr"
   ]
  },
  {
   "cell_type": "code",
   "execution_count": 16,
   "metadata": {},
   "outputs": [
    {
     "name": "stdout",
     "output_type": "stream",
     "text": [
      "('G\\xc3\\xa9nero predecido: ', 'pop')\n"
     ]
    }
   ],
   "source": [
    "print( \"Género predecido: \", genre_predict(ct_entrenado, test_arr.reshape(1,-1)) )"
   ]
  },
  {
   "cell_type": "code",
   "execution_count": 17,
   "metadata": {},
   "outputs": [
    {
     "data": {
      "text/plain": [
       "('metal', array([  4.86335456e-01,   1.36190000e-02,   1.09521285e-01,\n",
       "          1.45000031e+02,   2.03619116e+03,  -5.16890000e+02]))"
      ]
     },
     "execution_count": 17,
     "metadata": {},
     "output_type": "execute_result"
    }
   ],
   "source": [
    "test_id, test_genre, test_arr = load_song_from_json( 'dataset/pruebas/metal.00023.json' )\n",
    "test_genre, test_arr"
   ]
  },
  {
   "cell_type": "code",
   "execution_count": 18,
   "metadata": {},
   "outputs": [
    {
     "name": "stdout",
     "output_type": "stream",
     "text": [
      "('G\\xc3\\xa9nero predecido: ', 'metal')\n"
     ]
    }
   ],
   "source": [
    "print( \"Género predecido: \", genre_predict(ct_entrenado, test_arr.reshape(1,-1)) )"
   ]
  },
  {
   "cell_type": "markdown",
   "metadata": {
    "collapsed": true
   },
   "source": [
    "## Algunas conclusiones\n",
    "\n",
    "Entrenando con pocos géneros posibles clasificó bien los ejemplos tomados. Al entrenar con blues, classical y pop por ejemplo. Cuando a eso se le sumo el género country. Clasficó al tema 0005 de blues como de aquel género (country). Al agregar el entrenamiento hiphop, lo volvió a clasificar bien. Al agregar jazz, confunde pop.00010.json con blues...\n",
    "\n",
    "En principio pareciera que confunde country con blues y/o pop. Lo cuál es razonable a nivel armonias (al escuchar).\n",
    "Puede ser que los descriptores calculados\n",
    "\n",
    "Nota: los ejemplos con los que no fue entrenado el clasificador y se utilizaron para predecir, fueron tomados del mismo dataset de archivos de audio."
   ]
  },
  {
   "cell_type": "code",
   "execution_count": null,
   "metadata": {
    "collapsed": true
   },
   "outputs": [],
   "source": []
  }
 ],
 "metadata": {
  "kernelspec": {
   "display_name": "Python 2",
   "language": "python",
   "name": "python2"
  },
  "language_info": {
   "codemirror_mode": {
    "name": "ipython",
    "version": 2
   },
   "file_extension": ".py",
   "mimetype": "text/x-python",
   "name": "python",
   "nbconvert_exporter": "python",
   "pygments_lexer": "ipython2",
   "version": "2.7.13"
  }
 },
 "nbformat": 4,
 "nbformat_minor": 2
}
