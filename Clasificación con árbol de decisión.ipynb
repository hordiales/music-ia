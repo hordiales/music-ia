{
 "cells": [
  {
   "cell_type": "code",
   "execution_count": 1,
   "metadata": {
    "collapsed": true
   },
   "outputs": [],
   "source": [
    "from sklearn import tree\n",
    "import numpy as np\n",
    "\n",
    "import os\n",
    "import json"
   ]
  },
  {
   "cell_type": "markdown",
   "metadata": {},
   "source": [
    "# DATASET: GTZAN genre collection\n",
    "\n",
    "    The dataset consists of 1000 audio tracks each 30 seconds long.\n",
    "    It contains 10 genres, each represented by 100 tracks.\n",
    "    The tracks are all 22050Hz Mono 16-bit audio files in .wav format.\n",
    "\n",
    "    http://marsyas.info/downloads/datasets.html\n",
    "\n",
    "Procesado con Essentia (http://essentia.upf.edu/documentation/)\n",
    "\n",
    "    Valores promedio (mean) de los descriptores\n",
    "    [ \n",
    "                'lowlevel.spectral_centroid',\n",
    "                'lowlevel.dissonance',\n",
    "                'lowlevel.mfcc',\n",
    "                'sfx.inharmonicity', \n",
    "                'rhythm.bpm\n",
    "    ]\n",
    "    +género     \n",
    "    +id\n",
    "           "
   ]
  },
  {
   "cell_type": "markdown",
   "metadata": {},
   "source": [
    "### Ejemplo json"
   ]
  },
  {
   "cell_type": "code",
   "execution_count": 2,
   "metadata": {},
   "outputs": [
    {
     "name": "stdout",
     "output_type": "stream",
     "text": [
      "{\"lowlevel.dissonance.mean\": \"0.435817778111\", \"lowlevel.mfcc_bands.mean\": \"0.00309278\", \"sfx.inharmonicity.mean\": \"0.072731718421\", \"rhythm.bpm.mean\": \"67.7719039917\", \"lowlevel.spectral_centroid.mean\": \"2191.51098633\", \"lowlevel.mfcc.mean\": \"-695.122\", \"genre\": \"blues\", \"id\": \"blues.00001\"}"
     ]
    }
   ],
   "source": [
    "cat dataset/descriptores/blues.00001.json"
   ]
  },
  {
   "cell_type": "code",
   "execution_count": 3,
   "metadata": {
    "collapsed": true
   },
   "outputs": [],
   "source": [
    "files_dir = 'dataset/descriptores'"
   ]
  },
  {
   "cell_type": "code",
   "execution_count": 4,
   "metadata": {},
   "outputs": [
    {
     "name": "stdout",
     "output_type": "stream",
     "text": [
      "blues.00000.json      blues.00076.json      pop.00025.json\r\n",
      "blues.00001.json      blues.00077.json      pop.00026.json\r\n",
      "blues.00002.json      blues.00078.json      pop.00027.json\r\n",
      "blues.00003.json      blues.00079.json      pop.00028.json\r\n",
      "blues.00004.json      blues.00080.json      pop.00029.json\r\n",
      "blues.00006.json      blues.00081.json      pop.00030.json\r\n",
      "blues.00007.json      blues.00082.json      pop.00031.json\r\n",
      "blues.00008.json      blues.00083.json      pop.00032.json\r\n",
      "blues.00009.json      blues.00084.json      pop.00033.json\r\n",
      "blues.00010.json      blues.00085.json      pop.00034.json\r\n",
      "blues.00011.json      blues.00086.json      pop.00035.json\r\n",
      "blues.00012.json      blues.00087.json      pop.00036.json\r\n",
      "blues.00013.json      blues.00088.json      pop.00037.json\r\n",
      "blues.00014.json      blues.00089.json      pop.00038.json\r\n",
      "blues.00015.json      blues.00090.json      pop.00039.json\r\n",
      "blues.00016.json      blues.00091.json      pop.00040.json\r\n",
      "blues.00017.json      blues.00092.json      pop.00041.json\r\n",
      "blues.00018.json      blues.00093.json      pop.00042.json\r\n",
      "blues.00019.json      blues.00094.json      pop.00043.json\r\n",
      "blues.00020.json      blues.00095.json      pop.00044.json\r\n",
      "blues.00021.json      blues.00096.json      pop.00045.json\r\n",
      "blues.00022.json      blues.00097.json      pop.00046.json\r\n",
      "blues.00023.json      blues.00098.json      pop.00047.json\r\n",
      "blues.00024.json      blues.00099.json      pop.00048.json\r\n",
      "blues.00025.json      classical.00000.json  pop.00049.json\r\n",
      "blues.00026.json      classical.00001.json  pop.00050.json\r\n",
      "blues.00027.json      classical.00002.json  pop.00051.json\r\n",
      "blues.00028.json      classical.00003.json  pop.00052.json\r\n",
      "blues.00029.json      classical.00004.json  pop.00053.json\r\n",
      "blues.00030.json      classical.00005.json  pop.00054.json\r\n",
      "blues.00031.json      classical.00006.json  pop.00055.json\r\n",
      "blues.00032.json      classical.00007.json  pop.00056.json\r\n",
      "blues.00033.json      classical.00008.json  pop.00057.json\r\n",
      "blues.00034.json      classical.00009.json  pop.00058.json\r\n",
      "blues.00035.json      classical.00010.json  pop.00059.json\r\n",
      "blues.00036.json      classical.00011.json  pop.00060.json\r\n",
      "blues.00037.json      classical.00012.json  pop.00061.json\r\n",
      "blues.00038.json      classical.00013.json  pop.00062.json\r\n",
      "blues.00039.json      classical.00014.json  pop.00063.json\r\n",
      "blues.00040.json      classical.00015.json  pop.00064.json\r\n",
      "blues.00041.json      classical.00016.json  pop.00065.json\r\n",
      "blues.00042.json      classical.00017.json  pop.00066.json\r\n",
      "blues.00043.json      classical.00018.json  pop.00067.json\r\n",
      "blues.00044.json      classical.00019.json  pop.00068.json\r\n",
      "blues.00045.json      classical.00020.json  pop.00069.json\r\n",
      "blues.00046.json      classical.00021.json  pop.00070.json\r\n",
      "blues.00047.json      classical.00022.json  pop.00071.json\r\n",
      "blues.00048.json      classical.00023.json  pop.00072.json\r\n",
      "blues.00049.json      classical.00024.json  pop.00073.json\r\n",
      "blues.00050.json      classical.00025.json  pop.00074.json\r\n",
      "blues.00051.json      pop.00000.json        pop.00075.json\r\n",
      "blues.00052.json      pop.00001.json        pop.00076.json\r\n",
      "blues.00053.json      pop.00002.json        pop.00077.json\r\n",
      "blues.00054.json      pop.00003.json        pop.00078.json\r\n",
      "blues.00055.json      pop.00004.json        pop.00079.json\r\n",
      "blues.00056.json      pop.00005.json        pop.00080.json\r\n",
      "blues.00057.json      pop.00006.json        pop.00081.json\r\n",
      "blues.00058.json      pop.00007.json        pop.00082.json\r\n",
      "blues.00059.json      pop.00008.json        pop.00083.json\r\n",
      "blues.00060.json      pop.00009.json        pop.00084.json\r\n",
      "blues.00061.json      pop.00010.json        pop.00085.json\r\n",
      "blues.00062.json      pop.00011.json        pop.00086.json\r\n",
      "blues.00063.json      pop.00012.json        pop.00087.json\r\n",
      "blues.00064.json      pop.00013.json        pop.00088.json\r\n",
      "blues.00065.json      pop.00014.json        pop.00089.json\r\n",
      "blues.00066.json      pop.00015.json        pop.00090.json\r\n",
      "blues.00067.json      pop.00016.json        pop.00091.json\r\n",
      "blues.00068.json      pop.00017.json        pop.00092.json\r\n",
      "blues.00069.json      pop.00018.json        pop.00093.json\r\n",
      "blues.00070.json      pop.00019.json        pop.00094.json\r\n",
      "blues.00071.json      pop.00020.json        pop.00095.json\r\n",
      "blues.00072.json      pop.00021.json        pop.00096.json\r\n",
      "blues.00073.json      pop.00022.json        pop.00097.json\r\n",
      "blues.00074.json      pop.00023.json        pop.00098.json\r\n",
      "blues.00075.json      pop.00024.json        pop.00099.json\r\n"
     ]
    }
   ],
   "source": [
    "ls dataset/descriptores"
   ]
  },
  {
   "cell_type": "code",
   "execution_count": 13,
   "metadata": {
    "collapsed": true
   },
   "outputs": [],
   "source": [
    "codify_genre = { \n",
    "    'country': 0,\n",
    "    'blues': 1,\n",
    "    'classical': 2,\n",
    "    'pop': 3\n",
    "}\n",
    "undecode_genre = {v: k for k, v in codify_genre.iteritems()}\n",
    "\n",
    "def load_song_from_json(json_filename):\n",
    "    data = json.load( open(json_filename,'r') )\n",
    "    song_id = data.pop('id')\n",
    "    song_genre = codify_genre[ str(data.pop('genre')) ]\n",
    "    x = np.array( [float(v) for (k,v) in data.iteritems()], dtype=float)\n",
    "    return song_id, undecode_genre[song_genre], x\n",
    "\n",
    "len_vector = 6 #amount of data value of descriptors\n",
    "arr = np.empty((0,len_vector), float)\n",
    "target_arr = np.empty((0,1), float)\n",
    "\n",
    "for subdir, dirs, files in os.walk(files_dir):\n",
    "    for f in files:\n",
    "        if os.path.splitext(f)[1]==\".json\":\n",
    "            data = json.load( open(files_dir + \"/\" + f,'r') )\n",
    "            song_id = data.pop('id')\n",
    "            song_genre = codify_genre[ str(data.pop('genre')) ]\n",
    "            target_arr = np.append(target_arr, song_genre)\n",
    "            x = np.array( [float(v) for (k,v) in data.iteritems()], dtype=float)\n",
    "            arr = np.vstack((arr, x))"
   ]
  },
  {
   "cell_type": "markdown",
   "metadata": {},
   "source": [
    "## Entrenamiento"
   ]
  },
  {
   "cell_type": "code",
   "execution_count": 14,
   "metadata": {
    "collapsed": true
   },
   "outputs": [],
   "source": [
    "ct = tree.DecisionTreeClassifier()\n",
    "ct_entrenado = ct.fit( arr, target_arr ) #cargo los datos (entreno)\n",
    "\n",
    "def genre_predict(ct_entrenado, x_arr):\n",
    "    return undecode_genre[ ct_entrenado.predict( x_arr )[0] ]"
   ]
  },
  {
   "cell_type": "markdown",
   "metadata": {},
   "source": [
    "### Pruebas de predicción"
   ]
  },
  {
   "cell_type": "code",
   "execution_count": 17,
   "metadata": {},
   "outputs": [],
   "source": [
    "test_id, test_genre, test_arr = load_song_from_json( 'dataset/pruebas/blues.00005.json' )\n"
   ]
  },
  {
   "cell_type": "code",
   "execution_count": 18,
   "metadata": {},
   "outputs": [
    {
     "name": "stderr",
     "output_type": "stream",
     "text": [
      "/usr/local/lib/python2.7/site-packages/sklearn/utils/validation.py:395: DeprecationWarning: Passing 1d arrays as data is deprecated in 0.17 and will raise ValueError in 0.19. Reshape your data either using X.reshape(-1, 1) if your data has a single feature or X.reshape(1, -1) if it contains a single sample.\n",
      "  DeprecationWarning)\n"
     ]
    },
    {
     "data": {
      "text/plain": [
       "'blues'"
      ]
     },
     "execution_count": 18,
     "metadata": {},
     "output_type": "execute_result"
    }
   ],
   "source": [
    "genre_predict(ct_entrenado, test_arr)"
   ]
  },
  {
   "cell_type": "code",
   "execution_count": 19,
   "metadata": {
    "collapsed": true
   },
   "outputs": [],
   "source": [
    "test_id, test_genre, test_arr = load_song_from_json( 'dataset/pruebas/pop.00010.json' )"
   ]
  },
  {
   "cell_type": "code",
   "execution_count": 20,
   "metadata": {},
   "outputs": [
    {
     "data": {
      "text/plain": [
       "'pop'"
      ]
     },
     "execution_count": 20,
     "metadata": {},
     "output_type": "execute_result"
    }
   ],
   "source": [
    "test_genre"
   ]
  },
  {
   "cell_type": "code",
   "execution_count": 21,
   "metadata": {},
   "outputs": [
    {
     "name": "stderr",
     "output_type": "stream",
     "text": [
      "/usr/local/lib/python2.7/site-packages/sklearn/utils/validation.py:395: DeprecationWarning: Passing 1d arrays as data is deprecated in 0.17 and will raise ValueError in 0.19. Reshape your data either using X.reshape(-1, 1) if your data has a single feature or X.reshape(1, -1) if it contains a single sample.\n",
      "  DeprecationWarning)\n"
     ]
    },
    {
     "data": {
      "text/plain": [
       "'pop'"
      ]
     },
     "execution_count": 21,
     "metadata": {},
     "output_type": "execute_result"
    }
   ],
   "source": [
    "genre_predict(ct_entrenado, test_arr)"
   ]
  },
  {
   "cell_type": "code",
   "execution_count": null,
   "metadata": {
    "collapsed": true
   },
   "outputs": [],
   "source": []
  }
 ],
 "metadata": {
  "kernelspec": {
   "display_name": "Python 2",
   "language": "python",
   "name": "python2"
  },
  "language_info": {
   "codemirror_mode": {
    "name": "ipython",
    "version": 2
   },
   "file_extension": ".py",
   "mimetype": "text/x-python",
   "name": "python",
   "nbconvert_exporter": "python",
   "pygments_lexer": "ipython2",
   "version": "2.7.13"
  }
 },
 "nbformat": 4,
 "nbformat_minor": 2
}
